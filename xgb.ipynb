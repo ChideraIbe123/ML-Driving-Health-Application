{
 "cells": [
  {
   "cell_type": "code",
   "execution_count": 3,
   "metadata": {},
   "outputs": [
    {
     "data": {
      "text/html": [
       "<div>\n",
       "<style scoped>\n",
       "    .dataframe tbody tr th:only-of-type {\n",
       "        vertical-align: middle;\n",
       "    }\n",
       "\n",
       "    .dataframe tbody tr th {\n",
       "        vertical-align: top;\n",
       "    }\n",
       "\n",
       "    .dataframe thead th {\n",
       "        text-align: right;\n",
       "    }\n",
       "</style>\n",
       "<table border=\"1\" class=\"dataframe\">\n",
       "  <thead>\n",
       "    <tr style=\"text-align: right;\">\n",
       "      <th></th>\n",
       "      <th>HeartRate</th>\n",
       "      <th>BloodOxygenLevel</th>\n",
       "      <th>NoiseLevel</th>\n",
       "      <th>Score</th>\n",
       "    </tr>\n",
       "  </thead>\n",
       "  <tbody>\n",
       "    <tr>\n",
       "      <th>0</th>\n",
       "      <td>63.761181</td>\n",
       "      <td>97.479150</td>\n",
       "      <td>70.468829</td>\n",
       "      <td>88.709160</td>\n",
       "    </tr>\n",
       "    <tr>\n",
       "      <th>1</th>\n",
       "      <td>78.240789</td>\n",
       "      <td>99.177881</td>\n",
       "      <td>77.597383</td>\n",
       "      <td>87.983947</td>\n",
       "    </tr>\n",
       "    <tr>\n",
       "      <th>2</th>\n",
       "      <td>64.434949</td>\n",
       "      <td>97.105226</td>\n",
       "      <td>69.537317</td>\n",
       "      <td>88.077492</td>\n",
       "    </tr>\n",
       "    <tr>\n",
       "      <th>3</th>\n",
       "      <td>62.179323</td>\n",
       "      <td>99.565248</td>\n",
       "      <td>62.657563</td>\n",
       "      <td>78.271638</td>\n",
       "    </tr>\n",
       "    <tr>\n",
       "      <th>4</th>\n",
       "      <td>80.943299</td>\n",
       "      <td>97.846916</td>\n",
       "      <td>67.761804</td>\n",
       "      <td>81.665422</td>\n",
       "    </tr>\n",
       "    <tr>\n",
       "      <th>...</th>\n",
       "      <td>...</td>\n",
       "      <td>...</td>\n",
       "      <td>...</td>\n",
       "      <td>...</td>\n",
       "    </tr>\n",
       "    <tr>\n",
       "      <th>34995</th>\n",
       "      <td>80.524325</td>\n",
       "      <td>99.630628</td>\n",
       "      <td>71.609517</td>\n",
       "      <td>84.454565</td>\n",
       "    </tr>\n",
       "    <tr>\n",
       "      <th>34996</th>\n",
       "      <td>70.657464</td>\n",
       "      <td>95.821085</td>\n",
       "      <td>64.271135</td>\n",
       "      <td>86.434756</td>\n",
       "    </tr>\n",
       "    <tr>\n",
       "      <th>34997</th>\n",
       "      <td>82.954991</td>\n",
       "      <td>97.306875</td>\n",
       "      <td>73.979477</td>\n",
       "      <td>85.331360</td>\n",
       "    </tr>\n",
       "    <tr>\n",
       "      <th>34998</th>\n",
       "      <td>81.769338</td>\n",
       "      <td>98.222699</td>\n",
       "      <td>80.388383</td>\n",
       "      <td>82.619580</td>\n",
       "    </tr>\n",
       "    <tr>\n",
       "      <th>34999</th>\n",
       "      <td>68.576122</td>\n",
       "      <td>98.148656</td>\n",
       "      <td>64.465136</td>\n",
       "      <td>87.892602</td>\n",
       "    </tr>\n",
       "  </tbody>\n",
       "</table>\n",
       "<p>35000 rows × 4 columns</p>\n",
       "</div>"
      ],
      "text/plain": [
       "       HeartRate  BloodOxygenLevel  NoiseLevel      Score\n",
       "0      63.761181         97.479150   70.468829  88.709160\n",
       "1      78.240789         99.177881   77.597383  87.983947\n",
       "2      64.434949         97.105226   69.537317  88.077492\n",
       "3      62.179323         99.565248   62.657563  78.271638\n",
       "4      80.943299         97.846916   67.761804  81.665422\n",
       "...          ...               ...         ...        ...\n",
       "34995  80.524325         99.630628   71.609517  84.454565\n",
       "34996  70.657464         95.821085   64.271135  86.434756\n",
       "34997  82.954991         97.306875   73.979477  85.331360\n",
       "34998  81.769338         98.222699   80.388383  82.619580\n",
       "34999  68.576122         98.148656   64.465136  87.892602\n",
       "\n",
       "[35000 rows x 4 columns]"
      ]
     },
     "execution_count": 3,
     "metadata": {},
     "output_type": "execute_result"
    }
   ],
   "source": [
    "import pandas as pd\n",
    "from sklearn.model_selection import train_test_split, GridSearchCV, cross_val_score\n",
    "from sklearn.preprocessing import StandardScaler, PolynomialFeatures\n",
    "from sklearn.pipeline import Pipeline\n",
    "from sklearn.ensemble import RandomForestRegressor\n",
    "from sklearn.metrics import mean_squared_error, r2_score\n",
    "import xgboost as xgb\n",
    "import numpy as np\n",
    "\n",
    "df = pd.read_csv(\"/mnt/c/Users/krish/Documents/Internships/State Farm/2024 Hack Day/statefarm-hackathon/Car_Health_Metrics_Dataset.csv\")\n",
    "df"
   ]
  },
  {
   "cell_type": "code",
   "execution_count": 40,
   "metadata": {},
   "outputs": [],
   "source": [
    "# Split the data into features and target\n",
    "X = df[['HeartRate', 'BloodOxygenLevel', 'NoiseLevel']]\n",
    "y = df['Score']\n",
    "\n",
    "# Split the data into training and testing sets\n",
    "X_train, X_test, y_train, y_test = train_test_split(X, y, test_size=0.2, random_state=42)\n",
    "\n",
    "pipeline = Pipeline([\n",
    "    ('poly', PolynomialFeatures(degree=2, include_bias=False)),\n",
    "    ('scaler', StandardScaler()),\n",
    "    ('regressor', xgb.XGBRegressor(random_state=42))\n",
    "])\n",
    "\n",
    "# Define the hyperparameters to tune\n",
    "param_grid = {\n",
    "    'regressor__n_estimators': [100, 200, 300],\n",
    "    'regressor__max_depth': [3, 6, 9],\n",
    "    'regressor__learning_rate': [0.01, 0.1, 0.2],\n",
    "    'regressor__subsample': [0.6, 0.8, 1.0],\n",
    "    'regressor__colsample_bytree': [0.6, 0.8, 1.0]\n",
    "}"
   ]
  },
  {
   "cell_type": "code",
   "execution_count": 43,
   "metadata": {},
   "outputs": [
    {
     "name": "stdout",
     "output_type": "stream",
     "text": [
      "Best Parameters: {'regressor__colsample_bytree': 1.0, 'regressor__learning_rate': 0.1, 'regressor__max_depth': 9, 'regressor__n_estimators': 300, 'regressor__subsample': 0.6}\n"
     ]
    }
   ],
   "source": [
    "grid_search = GridSearchCV(pipeline, param_grid, cv=5, scoring='neg_mean_squared_error', n_jobs=-1)\n",
    "grid_search.fit(X_train, y_train)\n",
    "\n",
    "# Best parameters from grid search\n",
    "best_params = grid_search.best_params_\n",
    "print(f'Best Parameters: {best_params}')"
   ]
  },
  {
   "cell_type": "code",
   "execution_count": 44,
   "metadata": {},
   "outputs": [
    {
     "name": "stdout",
     "output_type": "stream",
     "text": [
      "Best MSE: 0.10437803442392928\n",
      "Best R^2: 0.9977354050908246\n"
     ]
    }
   ],
   "source": [
    "# Train the best model on the entire training set\n",
    "best_model = grid_search.best_estimator_\n",
    "\n",
    "best_model.fit(X_train, y_train)\n",
    "\n",
    "# Predict and evaluate\n",
    "y_pred = best_model.predict(X_test)\n",
    "\n",
    "mse = mean_squared_error(y_test, y_pred)\n",
    "r2 = r2_score(y_test, y_pred)\n",
    "print(f'Best MSE: {mse}')\n",
    "print(f'Best R^2: {r2}')"
   ]
  },
  {
   "cell_type": "code",
   "execution_count": 47,
   "metadata": {},
   "outputs": [
    {
     "name": "stdout",
     "output_type": "stream",
     "text": [
      "Predictions: [99.72121 88.96499]\n"
     ]
    },
    {
     "name": "stderr",
     "output_type": "stream",
     "text": [
      "/home/nangia/miniconda3/envs/tf/lib/python3.9/site-packages/sklearn/base.py:493: UserWarning: X does not have valid feature names, but PolynomialFeatures was fitted with feature names\n",
      "  warnings.warn(\n"
     ]
    }
   ],
   "source": [
    "new_data = np.array([\n",
    "    [70, 98, 75],  \n",
    "    [65, 97, 70]   \n",
    "])\n",
    "\n",
    "new_data_poly = best_model.named_steps['poly'].transform(new_data)\n",
    "new_data_scaled = best_model.named_steps['scaler'].transform(new_data_poly)\n",
    "\n",
    "predictions = best_model.named_steps['regressor'].predict(new_data_scaled)\n",
    "print(f\"Predictions: {predictions}\")"
   ]
  },
  {
   "cell_type": "code",
   "execution_count": 1,
   "metadata": {},
   "outputs": [
    {
     "ename": "NameError",
     "evalue": "name 'best_model' is not defined",
     "output_type": "error",
     "traceback": [
      "\u001b[0;31m---------------------------------------------------------------------------\u001b[0m",
      "\u001b[0;31mNameError\u001b[0m                                 Traceback (most recent call last)",
      "Cell \u001b[0;32mIn[1], line 4\u001b[0m\n\u001b[1;32m      1\u001b[0m \u001b[38;5;28;01mimport\u001b[39;00m \u001b[38;5;21;01mjoblib\u001b[39;00m\n\u001b[1;32m      3\u001b[0m joblib_file \u001b[38;5;241m=\u001b[39m \u001b[38;5;124m\"\u001b[39m\u001b[38;5;124mdriver_xgb_model.pkl\u001b[39m\u001b[38;5;124m\"\u001b[39m\n\u001b[0;32m----> 4\u001b[0m joblib\u001b[38;5;241m.\u001b[39mdump(\u001b[43mbest_model\u001b[49m, joblib_file)\n\u001b[1;32m      5\u001b[0m \u001b[38;5;28mprint\u001b[39m(\u001b[38;5;124mf\u001b[39m\u001b[38;5;124m\"\u001b[39m\u001b[38;5;124mModel saved to \u001b[39m\u001b[38;5;132;01m{\u001b[39;00mjoblib_file\u001b[38;5;132;01m}\u001b[39;00m\u001b[38;5;124m\"\u001b[39m)\n",
      "\u001b[0;31mNameError\u001b[0m: name 'best_model' is not defined"
     ]
    }
   ],
   "source": [
    "import joblib\n",
    "\n",
    "joblib_file = \"driver_xgb_model.pkl\"\n",
    "joblib.dump(best_model, joblib_file)\n",
    "print(f\"Model saved to {joblib_file}\")"
   ]
  },
  {
   "cell_type": "code",
   "execution_count": 4,
   "metadata": {},
   "outputs": [
    {
     "name": "stdout",
     "output_type": "stream",
     "text": [
      "Model loaded from disk\n",
      "Predictions: [75.78229]\n"
     ]
    },
    {
     "name": "stderr",
     "output_type": "stream",
     "text": [
      "/home/nangia/miniconda3/envs/tf/lib/python3.9/site-packages/sklearn/base.py:493: UserWarning: X does not have valid feature names, but PolynomialFeatures was fitted with feature names\n",
      "  warnings.warn(\n"
     ]
    }
   ],
   "source": [
    "loaded_model = joblib.load(joblib_file)\n",
    "print(\"Model loaded from disk\")\n",
    "\n",
    "new_data = np.array([[78, 98, 40]])\n",
    "new_data_poly = loaded_model.named_steps['poly'].transform(new_data)\n",
    "new_data_scaled = loaded_model.named_steps['scaler'].transform(new_data_poly)\n",
    "\n",
    "predictions = loaded_model.named_steps['regressor'].predict(new_data_scaled)\n",
    "print(f\"Predictions: {predictions}\")"
   ]
  },
  {
   "cell_type": "code",
   "execution_count": null,
   "metadata": {},
   "outputs": [],
   "source": []
  }
 ],
 "metadata": {
  "kernelspec": {
   "display_name": "tf",
   "language": "python",
   "name": "python3"
  },
  "language_info": {
   "codemirror_mode": {
    "name": "ipython",
    "version": 3
   },
   "file_extension": ".py",
   "mimetype": "text/x-python",
   "name": "python",
   "nbconvert_exporter": "python",
   "pygments_lexer": "ipython3",
   "version": "3.9.7"
  }
 },
 "nbformat": 4,
 "nbformat_minor": 2
}
