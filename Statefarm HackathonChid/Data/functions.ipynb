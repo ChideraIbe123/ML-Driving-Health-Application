{
 "cells": [
  {
   "cell_type": "code",
   "execution_count": 1,
   "metadata": {},
   "outputs": [],
   "source": [
    "import pandas as pd\n",
    "from scipy.stats import norm\n",
    "API_data = {\n",
    "    'HeartRate': [64, 78, 64, 62, 81, 81, 71, 83, 82, 69],\n",
    "    'BloodOxygenLevel': [97, 99, 97, 100, 98, 100, 96, 97, 98, 98],\n",
    "    'NoiseLevel': [70, 78, 70, 63, 68, 72, 64, 74, 80, 64],\n",
    "    'Score': [89, 88, 88, 78, 82, 84, 86, 85, 83, 88]\n",
    "}"
   ]
  },
  {
   "cell_type": "code",
   "execution_count": 3,
   "metadata": {},
   "outputs": [
    {
     "name": "stdout",
     "output_type": "stream",
     "text": [
      "The noise level over the past two weeks has been within the normal range. Keep monitoring to maintain a comfortable environment.\n",
      "Your heart rate over the past two weeks has been significantly lower than average. This may indicate an issue that should be addressed. Consider consulting a healthcare professional.\n",
      "Your blood oxygen levels over the past two weeks have been significantly lower than average. This may indicate an issue that should be addressed. Consider consulting a healthcare professional.\n"
     ]
    }
   ],
   "source": [
    "from scipy.stats import norm\n",
    "\n",
    "def avgHeartRate(input):\n",
    "    avg_heart_rate = API_df[\"HeartRate\"].mean()\n",
    "    std_heart_rate = API_df[\"HeartRate\"].std()\n",
    "    \n",
    "    if input < (avg_heart_rate - std_heart_rate):\n",
    "        return \"Your heart rate over the past two weeks has been significantly lower than average. This may indicate an issue that should be addressed. Consider consulting a healthcare professional.\"\n",
    "    elif input > (avg_heart_rate + std_heart_rate):\n",
    "        return \"Your heart rate over the past two weeks has been significantly higher than average. This may suggest increased stress levels. Consider stress-reduction techniques or consulting a healthcare professional if this persists.\"\n",
    "    else:\n",
    "        return \"Your heart rate over the past two weeks has been within the normal range. Keep monitoring to maintain good health.\"\n",
    "\n",
    "\n",
    "def avgBloodOxygen(input):\n",
    "    avg_blood_oxygen = API_df[\"BloodOxygenLevel\"].mean()\n",
    "    std_blood_oxygen = API_df[\"BloodOxygenLevel\"].std()\n",
    "    \n",
    "    if input < (avg_blood_oxygen - std_blood_oxygen):\n",
    "        return \"Your blood oxygen levels over the past two weeks have been significantly lower than average. This may indicate an issue that should be addressed. Consider consulting a healthcare professional.\"\n",
    "    elif input > (avg_blood_oxygen + std_blood_oxygen):\n",
    "        return \"Your blood oxygen levels over the past two weeks have been higher than average. This is generally not a concern, but you should ensure you are breathing comfortably and regularly.\"\n",
    "    else:\n",
    "        return \"Your blood oxygen levels over the past two weeks have been within the normal range. Keep monitoring to maintain good health.\"\n",
    "\n",
    "def avgNoiseLevel(input):\n",
    "    avg_noise_level = API_df[\"NoiseLevel\"].mean()\n",
    "    std_noise_level = API_df[\"NoiseLevel\"].std()\n",
    "    \n",
    "    if input < (avg_noise_level - std_noise_level):\n",
    "        return \"The noise level over the past two weeks has been significantly lower than average. This could indicate a quieter environment than usual.\"\n",
    "    elif input > (avg_noise_level + std_noise_level):\n",
    "        return \"The noise level over the past two weeks has been significantly higher than average. This may suggest a noisier environment which could affect concentration and comfort. Consider measures to reduce noise if possible.\"\n",
    "    else:\n",
    "        return \"The noise level over the past two weeks has been within the normal range. Keep monitoring to maintain a comfortable environment.\"\n",
    "\n",
    "\n",
    "API_df = pd.DataFrame(API_data)\n",
    "from scipy.stats import norm\n",
    "\n",
    "input_noise_level = 75  # Replace with the actual input noise level\n",
    "feedback = avgNoiseLevel(input_noise_level)\n",
    "print(feedback)\n",
    "\n",
    "# Example usage\n",
    "input_heart_rate = 60  # Replace with the actual input heart rate\n",
    "feedback = avgHeartRate(input_heart_rate)\n",
    "print(feedback)\n",
    "\n",
    "# Example usage\n",
    "input_blood_oxygen = 95  # Replace with the actual input blood oxygen level\n",
    "feedback = avgBloodOxygen(input_blood_oxygen)\n",
    "print(feedback)\n"
   ]
  },
  {
   "cell_type": "code",
   "execution_count": null,
   "metadata": {},
   "outputs": [],
   "source": []
  }
 ],
 "metadata": {
  "kernelspec": {
   "display_name": "base",
   "language": "python",
   "name": "python3"
  },
  "language_info": {
   "codemirror_mode": {
    "name": "ipython",
    "version": 3
   },
   "file_extension": ".py",
   "mimetype": "text/x-python",
   "name": "python",
   "nbconvert_exporter": "python",
   "pygments_lexer": "ipython3",
   "version": "3.11.4"
  }
 },
 "nbformat": 4,
 "nbformat_minor": 2
}
